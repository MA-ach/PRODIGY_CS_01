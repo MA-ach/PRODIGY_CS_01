{
 "cells": [
  {
   "cell_type": "code",
   "execution_count": 1,
   "id": "678916f3",
   "metadata": {},
   "outputs": [
    {
     "name": "stdout",
     "output_type": "stream",
     "text": [
      "Choose mode (encrypt/decrypt): Encrypt\n",
      "Enter your message: Hello\n",
      "Enter shift value: 3\n",
      "Encrypted Message: Khoor\n"
     ]
    }
   ],
   "source": [
    "def encrypt(text, shift):\n",
    "    result = \"\"\n",
    "    for char in text:\n",
    "        if char.isalpha():\n",
    "            shift_amount = shift % 26\n",
    "            start = ord('A') if char.isupper() else ord('a')\n",
    "            result += chr(start + (ord(char) - start + shift_amount) % 26)\n",
    "        else:\n",
    "            result += char\n",
    "    return result\n",
    "\n",
    "def decrypt(text, shift):\n",
    "    return encrypt(text, -shift)\n",
    "\n",
    "mode = input(\"Choose mode (encrypt/decrypt): \").strip().lower()\n",
    "message = input(\"Enter your message: \")\n",
    "shift = int(input(\"Enter shift value: \"))\n",
    "\n",
    "if mode == \"encrypt\":\n",
    "    encrypted_message = encrypt(message, shift)\n",
    "    print(f\"Encrypted Message: {encrypted_message}\")\n",
    "elif mode == \"decrypt\":\n",
    "    decrypted_message = decrypt(message, shift)\n",
    "    print(f\"Decrypted Message: {decrypted_message}\")\n",
    "else:\n",
    "    print(\"Invalid mode selected.\")\n"
   ]
  }
 ],
 "metadata": {
  "kernelspec": {
   "display_name": "Python 3 (ipykernel)",
   "language": "python",
   "name": "python3"
  },
  "language_info": {
   "codemirror_mode": {
    "name": "ipython",
    "version": 3
   },
   "file_extension": ".py",
   "mimetype": "text/x-python",
   "name": "python",
   "nbconvert_exporter": "python",
   "pygments_lexer": "ipython3",
   "version": "3.11.7"
  }
 },
 "nbformat": 4,
 "nbformat_minor": 5
}
